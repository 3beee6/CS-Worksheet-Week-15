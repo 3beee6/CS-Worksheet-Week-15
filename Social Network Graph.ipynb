{
 "cells": [
  {
   "cell_type": "code",
   "execution_count": null,
   "metadata": {},
   "outputs": [],
   "source": [
    "# Create a new social network\n",
    "network = Graph()\n",
    "# Add some members to the network\n",
    "network.add_member(\"Alice\", age=25, location=\"New York\")\n",
    "network.add_member(\"Bob\", age=30, location=\"Los Angeles\")\n",
    "network.add_member(\"Charlie\", age=35, location=\"Chicago\")\n",
    "network.add_member(\"David\", age=40, location=\"Seattle\")\n",
    "# Add some relationships between members\n",
    "network.add_relationship(\"Alice\", \"Bob\")\n",
    "network.add_relationship(\"Bob\", \"Charlie\")\n",
    "network.add_relationship(\"Charlie\", \"David\")\n",
    "# Find all the friends of Alice\n",
    "alice_friends = network.find_friends(\"Alice\")\n",
    "print(alice_friends) # Output: [\"Bob\"]\n",
    "# Find the shortest path between Alice and David\n",
    "shortest_path = network.shortest_path(\"Alice\", \"David\")\n",
    "print(shortest_path) # Output: 3"
   ]
  }
 ],
 "metadata": {
  "kernelspec": {
   "display_name": "Python 3",
   "language": "python",
   "name": "python3"
  },
  "language_info": {
   "codemirror_mode": {
    "name": "ipython",
    "version": 3
   },
   "file_extension": ".py",
   "mimetype": "text/x-python",
   "name": "python",
   "nbconvert_exporter": "python",
   "pygments_lexer": "ipython3",
   "version": "3.11.8"
  }
 },
 "nbformat": 4,
 "nbformat_minor": 2
}
