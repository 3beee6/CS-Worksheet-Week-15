{
 "cells": [
  {
   "cell_type": "markdown",
   "metadata": {},
   "source": [
    "Test-1"
   ]
  },
  {
   "cell_type": "code",
   "execution_count": 1,
   "metadata": {},
   "outputs": [
    {
     "name": "stdout",
     "output_type": "stream",
     "text": [
      "Works!\n"
     ]
    }
   ],
   "source": [
    "print(\"Works!\")"
   ]
  },
  {
   "cell_type": "markdown",
   "metadata": {},
   "source": [
    "Social Network Graph"
   ]
  },
  {
   "cell_type": "code",
   "execution_count": null,
   "metadata": {},
   "outputs": [],
   "source": [
    "# Create a new social network\n",
    "network = Graph()\n",
    "\n",
    "# Add some members to the network\n",
    "network.add_member(\"Alice\", age=25, location=\"New York\")\n",
    "network.add_member(\"Bob\", age=30, location=\"Los Angeles\")\n",
    "network.add_member(\"Charlie\", age=35, location=\"Chicago\")\n",
    "network.add_member(\"David\", age=40, location=\"Seattle\")\n",
    "\n",
    "# Add some relationships between members\n",
    "network.add_relationship(\"Alice\", \"Bob\")\n",
    "network.add_relationship(\"Bob\", \"Charlie\")\n",
    "network.add_relationship(\"Charlie\", \"David\")\n",
    "\n",
    "# Find all the friends of Alice\n",
    "alice_friends = network.find_friends(\"Alice\")\n",
    "print(alice_friends) # Output: [\"Bob\"]\n",
    "\n",
    "# Find the shortest path between Alice and David\n",
    "shortest_path = network.shortest_path(\"Alice\", \"David\")\n",
    "print(shortest_path) # Output: 3"
   ]
  }
 ],
 "metadata": {
  "kernelspec": {
   "display_name": "Python 3 (ipykernel)",
   "language": "python",
   "name": "python3"
  },
  "language_info": {
   "codemirror_mode": {
    "name": "ipython",
    "version": 3
   },
   "file_extension": ".py",
   "mimetype": "text/x-python",
   "name": "python",
   "nbconvert_exporter": "python",
   "pygments_lexer": "ipython3",
   "version": "3.12.1"
  }
 },
 "nbformat": 4,
 "nbformat_minor": 4
}
